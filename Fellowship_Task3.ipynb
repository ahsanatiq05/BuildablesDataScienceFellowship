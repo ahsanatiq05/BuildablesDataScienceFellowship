{
  "nbformat": 4,
  "nbformat_minor": 0,
  "metadata": {
    "colab": {
      "provenance": [],
      "authorship_tag": "ABX9TyOuNPxt3MdXgkZvlXVbMr5b",
      "include_colab_link": true
    },
    "kernelspec": {
      "name": "python3",
      "display_name": "Python 3"
    },
    "language_info": {
      "name": "python"
    }
  },
  "cells": [
    {
      "cell_type": "markdown",
      "metadata": {
        "id": "view-in-github",
        "colab_type": "text"
      },
      "source": [
        "<a href=\"https://colab.research.google.com/github/ahsanatiq05/BuildablesDataScienceFellowship/blob/main/Fellowship_Task3.ipynb\" target=\"_parent\"><img src=\"https://colab.research.google.com/assets/colab-badge.svg\" alt=\"Open In Colab\"/></a>"
      ]
    },
    {
      "cell_type": "markdown",
      "source": [
        "# **Day 3**"
      ],
      "metadata": {
        "id": "-3mJNYqphmjF"
      }
    },
    {
      "cell_type": "markdown",
      "source": [
        "##Question 1"
      ],
      "metadata": {
        "id": "s9y9qO9WhuiA"
      }
    },
    {
      "cell_type": "code",
      "source": [
        "def factorial(number):\n",
        "  if (number == 1):\n",
        "    return 1\n",
        "  else:\n",
        "    return number * factorial(number-1)"
      ],
      "metadata": {
        "id": "cl55d66DXLKv"
      },
      "execution_count": 1,
      "outputs": []
    },
    {
      "cell_type": "code",
      "source": [
        "fact = factorial(5)\n",
        "print(fact)"
      ],
      "metadata": {
        "id": "EbRJ6b7NiC6e",
        "colab": {
          "base_uri": "https://localhost:8080/"
        },
        "outputId": "c63c3082-9649-44e5-a04d-0f93300121e3"
      },
      "execution_count": 2,
      "outputs": [
        {
          "output_type": "stream",
          "name": "stdout",
          "text": [
            "120\n"
          ]
        }
      ]
    },
    {
      "cell_type": "markdown",
      "source": [
        "## Question 2"
      ],
      "metadata": {
        "id": "PLKn0o4vikCm"
      }
    },
    {
      "cell_type": "code",
      "source": [
        "import numpy as np\n",
        "class Node:\n",
        "  def __init__(self, data):\n",
        "    self.data = data\n",
        "    self.next = None\n",
        "\n",
        "class LinkedList:\n",
        "  def __init__(self):\n",
        "    self.head = None\n",
        "\n",
        "  def convertToArray(self):\n",
        "    arr = []\n",
        "    temp_node = self.head\n",
        "\n",
        "    while temp_node != None:\n",
        "      arr.append(temp_node.data)\n",
        "      temp_node = temp_node.next\n",
        "    return arr\n",
        "\n",
        "  def checkPalindrome(array):\n",
        "    left = 0\n",
        "    right = len(array)-1\n",
        "\n",
        "    while left < right:\n",
        "      if array[left] != array[right]:\n",
        "         return False\n",
        "      left = left+1\n",
        "      right = right-1\n",
        "\n",
        "    return True"
      ],
      "metadata": {
        "id": "HFl_sWLjic9B"
      },
      "execution_count": 3,
      "outputs": []
    },
    {
      "cell_type": "code",
      "source": [
        "my_list = LinkedList()\n",
        "\n",
        "node1 = Node(1)\n",
        "node2 = Node(2)\n",
        "node3 = Node(2)\n",
        "node4 = Node(1)\n",
        "\n",
        "my_list.head = node1\n",
        "node1.next = node2\n",
        "node2.next = node3\n",
        "node3.next = node4\n",
        "\n",
        "list_array = my_list.convertToArray()\n",
        "\n",
        "is_palindrome = LinkedList.checkPalindrome(list_array)\n",
        "\n",
        "print(f\"Is the linked list a palindrome? {is_palindrome}\")\n"
      ],
      "metadata": {
        "colab": {
          "base_uri": "https://localhost:8080/"
        },
        "id": "wguniMfOLgXZ",
        "outputId": "83a38633-74aa-48fd-8692-33a7d9f801e8"
      },
      "execution_count": 4,
      "outputs": [
        {
          "output_type": "stream",
          "name": "stdout",
          "text": [
            "Is the linked list a palindrome? True\n"
          ]
        }
      ]
    },
    {
      "cell_type": "markdown",
      "source": [
        "## Question 3"
      ],
      "metadata": {
        "id": "rhW2-oDlMQjO"
      }
    },
    {
      "cell_type": "code",
      "source": [
        "def join(i, j):\n",
        "  dummy = Node(0)\n",
        "  tail = dummy\n",
        "\n",
        "  while i != None and j != None:\n",
        "    if i.data < j.data:\n",
        "      tail.next = i\n",
        "      i = i.next\n",
        "    else:\n",
        "      tail.next = j\n",
        "      j = j.next\n",
        "    tail = tail.next\n",
        "\n",
        "  if i is not None:\n",
        "    tail.next = i\n",
        "  elif j is not None:\n",
        "    tail.next = j\n",
        "\n",
        "  return dummy.next"
      ],
      "metadata": {
        "id": "sATrNb4dL_Uj"
      },
      "execution_count": 5,
      "outputs": []
    },
    {
      "cell_type": "markdown",
      "source": [
        "## Question 4"
      ],
      "metadata": {
        "id": "3FirKgJ2ZDgS"
      }
    },
    {
      "cell_type": "code",
      "source": [
        "class BST:\n",
        "  def __init__(self, data):\n",
        "    self.data = data\n",
        "    self.left = None\n",
        "    self.right = None\n",
        "\n",
        "def insertion(root, data):\n",
        "  if root == None:\n",
        "    return BST(data)\n",
        "  else:\n",
        "    prev = None\n",
        "    curr = root\n",
        "\n",
        "    while (curr != None):\n",
        "      prev = curr\n",
        "      if curr.data > data:\n",
        "        curr = curr.left\n",
        "      else:\n",
        "        curr = curr.right\n",
        "\n",
        "    if prev.data > data:\n",
        "      prev.left = BST(data)\n",
        "    else:\n",
        "      prev.right = BST(data)\n",
        "  return root\n",
        "\n",
        "def deletion(root, data):\n",
        "  if root is None:\n",
        "    return root\n",
        "  if root.data < data:\n",
        "    root.right = deletion(root.right, data)\n",
        "  elif root.data > data:\n",
        "    root.left = deletion(root.left, data)\n",
        "  else :\n",
        "    if root.right == None and root.left == None:\n",
        "      root = None\n",
        "      return None\n",
        "    elif (root.right == None):\n",
        "      return root.left\n",
        "    elif (root.left == None):\n",
        "      return root.right\n",
        "    else:\n",
        "      temp = findmin(root.right)\n",
        "      root.data = temp.data\n",
        "      root.right = deletion(root.right, temp.data)\n",
        "  return root\n",
        "\n",
        "def findmin(root):\n",
        "  temp = root\n",
        "  while (temp is not None and temp.left is not None):\n",
        "    temp = temp.left\n",
        "  return temp\n",
        "\n",
        "def search(root, data):\n",
        "  if root is None or root.data == data:\n",
        "    return root\n",
        "  if root.data < data:\n",
        "    return search(root.right, data)\n",
        "  return search(root.left, data)"
      ],
      "metadata": {
        "id": "lP1bQH7tWFuS"
      },
      "execution_count": 6,
      "outputs": []
    },
    {
      "cell_type": "code",
      "source": [
        "root = None\n",
        "root = insertion(root, 50)\n",
        "insertion(root, 30)\n",
        "insertion(root, 20)\n",
        "insertion(root, 40)\n",
        "insertion(root, 70)\n",
        "insertion(root, 60)\n",
        "insertion(root, 80)\n",
        "\n",
        "search_result = search(root, 60)\n",
        "\n",
        "if search_result:\n",
        "  print(f\"Node with data 60 found in the BST.\")\n",
        "else:\n",
        "  print(f\"Node with data 60 not found in the BST.\")\n",
        "\n",
        "search_result_not_found = search(root, 90)\n",
        "\n",
        "if search_result_not_found:\n",
        "  print(f\"Node with data 90 found in the BST.\")\n",
        "else:\n",
        "  print(f\"Node with data 90 not found in the BST.\")"
      ],
      "metadata": {
        "colab": {
          "base_uri": "https://localhost:8080/"
        },
        "id": "Xy7lEWjTdUeB",
        "outputId": "eca89928-9bd8-43b8-cbed-f4f8fe01f057"
      },
      "execution_count": 7,
      "outputs": [
        {
          "output_type": "stream",
          "name": "stdout",
          "text": [
            "Node with data 60 found in the BST.\n",
            "Node with data 90 not found in the BST.\n"
          ]
        }
      ]
    },
    {
      "cell_type": "markdown",
      "source": [
        "## Question 5"
      ],
      "metadata": {
        "id": "L9Elj0tNkKbS"
      }
    },
    {
      "cell_type": "code",
      "source": [
        "def longestSubstring():\n",
        "  string = str(input(\"Enter the string: \"))\n",
        "  longest = \"\"\n",
        "  for i in range(len(string)):\n",
        "    for j in range(i+1, len(string)):\n",
        "      substring= string[i:j+1]\n",
        "\n",
        "      if substring == substring[::-1]:\n",
        "        if len(substring) > len(longest):\n",
        "          longest = substring\n",
        "  print(longest)\n",
        "\n",
        "longestSubstring()\n",
        "\n",
        "\n",
        "\n"
      ],
      "metadata": {
        "colab": {
          "base_uri": "https://localhost:8080/"
        },
        "id": "kIzlmayMkHcH",
        "outputId": "6c201739-0989-4d51-ce05-1dfc2b0a4575"
      },
      "execution_count": 8,
      "outputs": [
        {
          "output_type": "stream",
          "name": "stdout",
          "text": [
            "Enter the string: abrara\n",
            "rar\n"
          ]
        }
      ]
    },
    {
      "cell_type": "markdown",
      "source": [
        "## Question 6"
      ],
      "metadata": {
        "id": "bs3SVNkRr-Eh"
      }
    },
    {
      "cell_type": "code",
      "source": [
        "intervals = [(1, 3), (2, 6), (8, 10), (15, 18)]\n",
        "merged = []\n",
        "start, end = intervals[0]\n",
        "for i in range(1, len(intervals)):\n",
        "    start_curr, end_curr = intervals[i]\n",
        "    if start_curr <= end:\n",
        "        end = max(end_curr, end)\n",
        "    else:\n",
        "        merged.append((start, end))\n",
        "        start, end = start_curr, end_curr\n",
        "merged.append((start, end))\n",
        "print(merged)\n"
      ],
      "metadata": {
        "colab": {
          "base_uri": "https://localhost:8080/"
        },
        "id": "MbC6haEarkYR",
        "outputId": "66e20ed7-91a4-43f2-f4ce-c3515d13c19b"
      },
      "execution_count": 9,
      "outputs": [
        {
          "output_type": "stream",
          "name": "stdout",
          "text": [
            "[(1, 6), (8, 10), (15, 18)]\n"
          ]
        }
      ]
    },
    {
      "cell_type": "markdown",
      "source": [
        "## Question 7"
      ],
      "metadata": {
        "id": "GtNF6R_RSCfB"
      }
    },
    {
      "cell_type": "code",
      "source": [
        "array = [-2, 1, -3, 4, -1, 2, 1, -5, 4]\n",
        "\n",
        "def MaxArray(array):\n",
        "  sum = 0\n",
        "  max = 0\n",
        "  for i in range(len(array)):\n",
        "    sum += array[i]\n",
        "    if sum > max:\n",
        "      max = sum\n",
        "    if (sum<0):\n",
        "      sum = 0\n",
        "  print(max)\n",
        "\n",
        "\n",
        "MaxArray(array)"
      ],
      "metadata": {
        "id": "TGesm2fswmkg",
        "colab": {
          "base_uri": "https://localhost:8080/"
        },
        "outputId": "b031d1c0-442f-4218-9b96-d03fa556e84a"
      },
      "execution_count": 10,
      "outputs": [
        {
          "output_type": "stream",
          "name": "stdout",
          "text": [
            "6\n"
          ]
        }
      ]
    },
    {
      "cell_type": "markdown",
      "source": [
        "## Question 8"
      ],
      "metadata": {
        "id": "g6zJfYMyWX67"
      }
    },
    {
      "cell_type": "code",
      "source": [
        "def ReverseLinkedList(head):\n",
        "  prev = None\n",
        "  curr = head\n",
        "  while curr != None:\n",
        "    nxt = curr.next\n",
        "    curr.next = prev\n",
        "    prev = curr\n",
        "    curr = nxt\n",
        "  return prev"
      ],
      "metadata": {
        "id": "0dAT1vOuUx5z"
      },
      "execution_count": 17,
      "outputs": []
    },
    {
      "cell_type": "code",
      "source": [
        "class Node:\n",
        "  def __init__(self, data):\n",
        "    self.data = data\n",
        "    self.next = None\n",
        "\n",
        "head = Node(1)\n",
        "head.next = Node(2)\n",
        "head.next.next = Node(3)\n",
        "head.next.next.next = Node(4)\n",
        "\n",
        "print(\"Original linked list:\")\n",
        "temp = head\n",
        "while temp:\n",
        "    print(temp.data, end=\" -> \")\n",
        "    temp = temp.next\n",
        "\n",
        "reversed_head = ReverseLinkedList(head)\n",
        "print()\n",
        "print(\"Reversed linked list: \")\n",
        "temp = reversed_head\n",
        "while temp:\n",
        "    print(temp.data, end=\" -> \")\n",
        "    temp = temp.next\n"
      ],
      "metadata": {
        "colab": {
          "base_uri": "https://localhost:8080/"
        },
        "id": "GQJwZ_kmaBqK",
        "outputId": "82c96e69-9fdf-4783-b65f-895735cf8cb6"
      },
      "execution_count": 21,
      "outputs": [
        {
          "output_type": "stream",
          "name": "stdout",
          "text": [
            "Original linked list:\n",
            "1 -> 2 -> 3 -> 4 -> \n",
            "Reversed linked list: \n",
            "4 -> 3 -> 2 -> 1 -> "
          ]
        }
      ]
    },
    {
      "cell_type": "markdown",
      "source": [
        "## Question 9"
      ],
      "metadata": {
        "id": "2FeRNfWje8Rc"
      }
    },
    {
      "cell_type": "code",
      "source": [
        "def minDistance(word1, word2):\n",
        "    m, n = len(word1), len(word2)\n",
        "    dp = [[0] * (n + 1) for _ in range(m + 1)]\n",
        "\n",
        "    for i in range(m+1):\n",
        "        dp[i][0] = i\n",
        "    for j in range(n+1):\n",
        "        dp[0][j] = j\n",
        "\n",
        "    for i in range(1, m+1):\n",
        "        for j in range(1, n+1):\n",
        "            if word1[i-1] == word2[j-1]:\n",
        "                dp[i][j] = dp[i-1][j-1]\n",
        "            else:\n",
        "                dp[i][j] = 1 + min(\n",
        "                    dp[i-1][j],    # deletion\n",
        "                    dp[i][j-1],    # insertion\n",
        "                    dp[i-1][j-1]   # replacement\n",
        "                )\n",
        "\n",
        "    return dp[m][n]\n"
      ],
      "metadata": {
        "id": "JpuTPOhsaK-B"
      },
      "execution_count": 6,
      "outputs": []
    },
    {
      "cell_type": "code",
      "source": [
        "print(minDistance(\"kitten\", \"sitting\"))"
      ],
      "metadata": {
        "colab": {
          "base_uri": "https://localhost:8080/"
        },
        "id": "wrXQ77sNrC09",
        "outputId": "ff92b499-6e77-42ea-885e-7194fb1ba057"
      },
      "execution_count": 7,
      "outputs": [
        {
          "output_type": "stream",
          "name": "stdout",
          "text": [
            "3\n"
          ]
        }
      ]
    },
    {
      "cell_type": "markdown",
      "source": [
        "## Question 10"
      ],
      "metadata": {
        "id": "biE1J2-orjRn"
      }
    },
    {
      "cell_type": "code",
      "source": [
        "def exist(board, word):\n",
        "    rows, cols = len(board), len(board[0])\n",
        "\n",
        "    directions = [(-1,-1), (-1,0), (-1,1),\n",
        "                  (0,-1),          (0,1),\n",
        "                  (1,-1),  (1,0),  (1,1)]\n",
        "\n",
        "    def dfs(r, c, i, visited):\n",
        "        if i == len(word):\n",
        "            return True\n",
        "        if (r < 0 or r >= rows or\n",
        "            c < 0 or c >= cols or\n",
        "            (r, c) in visited or\n",
        "            board[r][c] != word[i]):\n",
        "            return False\n",
        "\n",
        "        visited.add((r, c))\n",
        "        for dr, dc in directions:\n",
        "            if dfs(r + dr, c + dc, i + 1, visited):\n",
        "                return True\n",
        "        visited.remove((r, c))\n",
        "        return False\n",
        "\n",
        "    for r in range(rows):\n",
        "        for c in range(cols):\n",
        "            if dfs(r, c, 0, set()):\n",
        "                return True\n",
        "    return False\n",
        "\n",
        "\n",
        "def findWords(board, words):\n",
        "    result = []\n",
        "    for w in words:\n",
        "        if exist(board, w):\n",
        "            result.append(w)\n",
        "    return result\n",
        "\n",
        "\n",
        "board = [\n",
        "    [\"o\",\"a\",\"a\",\"n\"],\n",
        "    [\"e\",\"t\",\"a\",\"e\"],\n",
        "    [\"i\",\"h\",\"k\",\"r\"],\n",
        "    [\"i\",\"f\",\"l\",\"v\"]\n",
        "]\n",
        "\n",
        "words = [\"oath\", \"pea\", \"eat\", \"rain\", \"hike\", \"tea\"]\n",
        "\n",
        "print(findWords(board, words))\n"
      ],
      "metadata": {
        "colab": {
          "base_uri": "https://localhost:8080/"
        },
        "id": "x0LhtTA3rJyX",
        "outputId": "59ec039e-dd2a-429d-8e35-c56fc97649c6"
      },
      "execution_count": 8,
      "outputs": [
        {
          "output_type": "stream",
          "name": "stdout",
          "text": [
            "['oath', 'eat', 'tea']\n"
          ]
        }
      ]
    },
    {
      "cell_type": "markdown",
      "source": [
        "## Question 11"
      ],
      "metadata": {
        "id": "SLOTSvERs1e8"
      }
    },
    {
      "cell_type": "code",
      "source": [
        "def fibonacci(n):\n",
        "    pre = 0\n",
        "    curr = 1\n",
        "\n",
        "    for i in range(n):\n",
        "        yield pre\n",
        "        temp = curr\n",
        "        curr = pre + curr\n",
        "        pre = temp\n"
      ],
      "metadata": {
        "id": "lLI8HSn-sv_W"
      },
      "execution_count": 17,
      "outputs": []
    },
    {
      "cell_type": "code",
      "source": [
        "for i in fibonacci(10):\n",
        "    print(i)"
      ],
      "metadata": {
        "colab": {
          "base_uri": "https://localhost:8080/"
        },
        "id": "VEiA5qmetSU6",
        "outputId": "77644007-a6ab-4ef0-f416-247c95eb9cd4"
      },
      "execution_count": 18,
      "outputs": [
        {
          "output_type": "stream",
          "name": "stdout",
          "text": [
            "0\n",
            "1\n",
            "1\n",
            "2\n",
            "3\n",
            "5\n",
            "8\n",
            "13\n",
            "21\n",
            "34\n"
          ]
        }
      ]
    }
  ]
}