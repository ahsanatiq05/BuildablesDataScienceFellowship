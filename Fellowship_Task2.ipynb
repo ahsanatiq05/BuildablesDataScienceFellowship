{
  "nbformat": 4,
  "nbformat_minor": 0,
  "metadata": {
    "colab": {
      "provenance": [],
      "authorship_tag": "ABX9TyM41BfFJL983z8tZNxan3dC",
      "include_colab_link": true
    },
    "kernelspec": {
      "name": "python3",
      "display_name": "Python 3"
    },
    "language_info": {
      "name": "python"
    }
  },
  "cells": [
    {
      "cell_type": "markdown",
      "metadata": {
        "id": "view-in-github",
        "colab_type": "text"
      },
      "source": [
        "<a href=\"https://colab.research.google.com/github/ahsanatiq05/BuildablesDataScienceFellowship/blob/main/Fellowship_Task2.ipynb\" target=\"_parent\"><img src=\"https://colab.research.google.com/assets/colab-badge.svg\" alt=\"Open In Colab\"/></a>"
      ]
    },
    {
      "cell_type": "markdown",
      "source": [
        "#**Day 2**"
      ],
      "metadata": {
        "id": "B_HCXhDPXmfj"
      }
    },
    {
      "cell_type": "markdown",
      "source": [
        "## Question 1"
      ],
      "metadata": {
        "id": "C2px-sINXmW0"
      }
    },
    {
      "cell_type": "code",
      "execution_count": null,
      "metadata": {
        "colab": {
          "base_uri": "https://localhost:8080/"
        },
        "id": "l5cxAy6WUjy7",
        "outputId": "af33ba2d-ce7a-46a4-86ff-e55368c7b94e"
      },
      "outputs": [
        {
          "output_type": "stream",
          "name": "stdout",
          "text": [
            "Enter the string: civic\n",
            "civic->civic is a palindrome\n"
          ]
        }
      ],
      "source": [
        "string = str(input(\"Enter the string: \"))\n",
        "i = 0\n",
        "j = len(string)-1\n",
        "check = True\n",
        "while(i<j):\n",
        "    if string[i] != string[j]:\n",
        "       print(string + \" is not a palindrome\")\n",
        "       check = False\n",
        "       break\n",
        "    i = i+1\n",
        "    j = j-1\n",
        "\n",
        "if (check):\n",
        "  print(string + \" -> \" + string + \" is a palindrome\")"
      ]
    },
    {
      "cell_type": "markdown",
      "source": [
        "## Question 2"
      ],
      "metadata": {
        "id": "T9Lsw_SIYV8y"
      }
    },
    {
      "cell_type": "code",
      "source": [
        "for i in range(101):\n",
        "  if (i % 3 == 0):\n",
        "    print(\"Fizz\")\n",
        "  elif (i % 5 == 0):\n",
        "    print(\"Buzz\")\n",
        "  elif(i % 3 == 0 and i % 5 == 0):\n",
        "    print(\"FizzBuzz\")"
      ],
      "metadata": {
        "colab": {
          "base_uri": "https://localhost:8080/"
        },
        "id": "_TIjmAG4YUVl",
        "outputId": "827a1322-db13-45d7-bd26-8ad228e5835c"
      },
      "execution_count": null,
      "outputs": [
        {
          "output_type": "stream",
          "name": "stdout",
          "text": [
            "Fizz\n",
            "Fizz\n",
            "Buzz\n",
            "Fizz\n",
            "Fizz\n",
            "Buzz\n",
            "Fizz\n",
            "Fizz\n",
            "Fizz\n",
            "Buzz\n",
            "Fizz\n",
            "Fizz\n",
            "Buzz\n",
            "Fizz\n",
            "Fizz\n",
            "Fizz\n",
            "Buzz\n",
            "Fizz\n",
            "Fizz\n",
            "Buzz\n",
            "Fizz\n",
            "Fizz\n",
            "Fizz\n",
            "Buzz\n",
            "Fizz\n",
            "Fizz\n",
            "Buzz\n",
            "Fizz\n",
            "Fizz\n",
            "Fizz\n",
            "Buzz\n",
            "Fizz\n",
            "Fizz\n",
            "Buzz\n",
            "Fizz\n",
            "Fizz\n",
            "Fizz\n",
            "Buzz\n",
            "Fizz\n",
            "Fizz\n",
            "Buzz\n",
            "Fizz\n",
            "Fizz\n",
            "Fizz\n",
            "Buzz\n",
            "Fizz\n",
            "Fizz\n",
            "Buzz\n"
          ]
        }
      ]
    },
    {
      "cell_type": "markdown",
      "source": [
        "## Question 3"
      ],
      "metadata": {
        "id": "6kX3oJPdZsG4"
      }
    },
    {
      "cell_type": "code",
      "source": [
        "fibnum = int(input(\"Enter he number: \"))\n",
        "prev = 0\n",
        "curr = 0\n",
        "for i in range(fibnum):\n",
        "  if i == 0:\n",
        "    continue\n",
        "  elif i == 0:\n",
        "    curr = 1\n",
        "  else:\n",
        "    temp = curr + prev\n",
        "    prev = curr\n",
        "    curr = temp\n",
        "print(\"The \" + str(fibnum)+ \"th\" + \" Fibonacci number is 55\")\n"
      ],
      "metadata": {
        "colab": {
          "base_uri": "https://localhost:8080/"
        },
        "id": "00_93RSIZpXJ",
        "outputId": "562d7c6f-75b9-4c84-c11a-065d1258c6e5"
      },
      "execution_count": null,
      "outputs": [
        {
          "output_type": "stream",
          "name": "stdout",
          "text": [
            "Enter he number: 10\n",
            "The 10th Fibonacci number is 55\n"
          ]
        }
      ]
    },
    {
      "cell_type": "markdown",
      "source": [
        "## Question 4"
      ],
      "metadata": {
        "id": "xyijz3IzbNbx"
      }
    },
    {
      "cell_type": "code",
      "source": [
        "num = int(input(\"Enter the number: \"))\n",
        "check = True\n",
        "mid = int(num/2)\n",
        "for i in range(1, mid):\n",
        "  if i % num == 0:\n",
        "    print(str(num) + \" is not prime\")\n",
        "    check = False\n",
        "    break\n",
        "if (check):\n",
        "  print(str(num) + \" is prime\")\n",
        "\n"
      ],
      "metadata": {
        "colab": {
          "base_uri": "https://localhost:8080/"
        },
        "id": "u8OwvUzRbK67",
        "outputId": "59539728-0945-4163-9902-18b172e855b1"
      },
      "execution_count": null,
      "outputs": [
        {
          "output_type": "stream",
          "name": "stdout",
          "text": [
            "Enter the number: 7\n",
            "7 is prime\n"
          ]
        }
      ]
    },
    {
      "cell_type": "markdown",
      "source": [
        "## Question 5"
      ],
      "metadata": {
        "id": "dpEOYzMzc1Jd"
      }
    },
    {
      "cell_type": "code",
      "source": [
        "check = True\n",
        "secret = int(input(\"Enter the secret number: \"))\n",
        "while (check):\n",
        "  num = int(input(\"Guess the number:\"))\n",
        "  if num < secret:\n",
        "    print(\"Too low\")\n",
        "  elif (num > secret):\n",
        "    print(\"Too high\")\n",
        "  else:\n",
        "    print(\"Correct!\")\n",
        "    check = False"
      ],
      "metadata": {
        "colab": {
          "base_uri": "https://localhost:8080/"
        },
        "id": "_cH3IS-IcEZA",
        "outputId": "afd60f98-d955-49ff-f3a9-fb047289adac"
      },
      "execution_count": null,
      "outputs": [
        {
          "output_type": "stream",
          "name": "stdout",
          "text": [
            "Enter the secret number: 13\n",
            "Guess the number:6\n",
            "Too low\n",
            "Guess the number:15\n",
            "Too high\n",
            "Guess the number:13\n",
            "Correct!\n"
          ]
        }
      ]
    },
    {
      "cell_type": "markdown",
      "source": [
        "## Question 6"
      ],
      "metadata": {
        "id": "1g1pnV4Xdt4v"
      }
    },
    {
      "cell_type": "code",
      "source": [
        "import numpy as np\n",
        "array = np.zeros(10, dtype=np.int64)\n",
        "for i in range(10):\n",
        "    array[i] = i**2\n",
        "print(array)"
      ],
      "metadata": {
        "colab": {
          "base_uri": "https://localhost:8080/"
        },
        "id": "v6Kj97_Jddx2",
        "outputId": "164b5cd1-6ce0-4d3e-ca26-a48d3cfe7146"
      },
      "execution_count": null,
      "outputs": [
        {
          "output_type": "stream",
          "name": "stdout",
          "text": [
            "[ 0  1  4  9 16 25 36 49 64 81]\n"
          ]
        }
      ]
    },
    {
      "cell_type": "markdown",
      "source": [
        "## Question 7"
      ],
      "metadata": {
        "id": "-oOzXye2f5hY"
      }
    },
    {
      "cell_type": "code",
      "source": [
        "string = str(input(\"Enter the string: \"))\n",
        "string.lower()\n",
        "checkstr = \"\"\n",
        "\n",
        "for i in range(len(string)-1, -1, -1):\n",
        "    checkstr = checkstr + string[i]\n",
        "if (string == checkstr):\n",
        "    print(string + \" is a palindrome\")\n",
        "else:\n",
        "    print(string + \" is not a palindrome\")"
      ],
      "metadata": {
        "colab": {
          "base_uri": "https://localhost:8080/"
        },
        "id": "1fwhohacd6Fq",
        "outputId": "e756f1d4-6546-43cb-c2e7-d3927df52b71"
      },
      "execution_count": null,
      "outputs": [
        {
          "output_type": "stream",
          "name": "stdout",
          "text": [
            "Enter the string: madam\n",
            "madam is a palindrome\n"
          ]
        }
      ]
    },
    {
      "cell_type": "markdown",
      "source": [
        "## Question 8"
      ],
      "metadata": {
        "id": "3rsAZOlwjY3D"
      }
    },
    {
      "cell_type": "code",
      "source": [
        "string = str(input(\"Enter the string: \"))\n",
        "string2 = str(input(\"Enter the another string: \"))\n",
        "\n",
        "string = sorted(string)\n",
        "string2 = sorted(string2)\n",
        "\n",
        "if string == string2:\n",
        "  print(\"The Strings are anagrams\")\n",
        "else :\n",
        "  print(\"The Strings are not anagrams\")\n"
      ],
      "metadata": {
        "colab": {
          "base_uri": "https://localhost:8080/"
        },
        "id": "zY2Oo0RRhd-4",
        "outputId": "1c3a05db-2ea4-4c00-f2ca-af0e9ce48741"
      },
      "execution_count": null,
      "outputs": [
        {
          "output_type": "stream",
          "name": "stdout",
          "text": [
            "Enter the string: alif\n",
            "Enter the another string: fila\n",
            "The Strings are anagrams\n"
          ]
        }
      ]
    },
    {
      "cell_type": "markdown",
      "source": [
        "## Question 9"
      ],
      "metadata": {
        "id": "1gawQgGTqQD2"
      }
    },
    {
      "cell_type": "code",
      "source": [
        "import numpy as np\n",
        "string = str(input(\"Enter the sentnece: \"))\n",
        "array = np.array(string.split(\" \"))\n",
        "string2 = \"\"\n",
        "for i in range(len(array)-1, -1, -1):\n",
        "  string2 = string2 + \" \" + array[i]\n",
        "print(string2)"
      ],
      "metadata": {
        "id": "Jx09ZGlZls7a",
        "colab": {
          "base_uri": "https://localhost:8080/"
        },
        "outputId": "f0b3954d-4ce6-4dc7-ab94-a65d9616a5db"
      },
      "execution_count": 71,
      "outputs": [
        {
          "output_type": "stream",
          "name": "stdout",
          "text": [
            "Enter the sentnece: purple blue orange pink\n",
            " pink orange blue purple\n"
          ]
        }
      ]
    },
    {
      "cell_type": "markdown",
      "source": [
        "## Question 10"
      ],
      "metadata": {
        "id": "0ObZfnL0-Gkt"
      }
    },
    {
      "cell_type": "code",
      "source": [
        "celsius = int(input(\"Enter the temp in celsius:\"))\n",
        "fahrenheit = celsius * 4.5 + 32\n",
        "kelvin = 273.15 + celsius\n",
        "print(str(celsius) + \"C\" + \" =\" + str(fahrenheit) + \"F\" + \" =\" + str(kelvin) + \"K\")"
      ],
      "metadata": {
        "colab": {
          "base_uri": "https://localhost:8080/"
        },
        "id": "r_1U_Rg92_JN",
        "outputId": "dd33f271-70ca-4ad5-cba4-a07a629d43f9"
      },
      "execution_count": 73,
      "outputs": [
        {
          "output_type": "stream",
          "name": "stdout",
          "text": [
            "Enter the temp in celsius:30\n",
            "30C =167.0F =303.15K\n"
          ]
        }
      ]
    },
    {
      "cell_type": "markdown",
      "source": [
        "## Question 11"
      ],
      "metadata": {
        "id": "vLDdepye_-7n"
      }
    },
    {
      "cell_type": "code",
      "source": [
        "class EvenNumbers:\n",
        "    def __init__(self, end):\n",
        "        self.end = end\n",
        "\n",
        "    def __iter__(self):\n",
        "        curr = 0\n",
        "        while curr <= self.end:\n",
        "            yield curr\n",
        "            curr += 2\n"
      ],
      "metadata": {
        "id": "uNiUmYRG_FNs"
      },
      "execution_count": 81,
      "outputs": []
    },
    {
      "cell_type": "code",
      "source": [
        "for num in EvenNumbers(10):\n",
        "    print(num)\n"
      ],
      "metadata": {
        "colab": {
          "base_uri": "https://localhost:8080/"
        },
        "id": "YqO9GNIPAgxx",
        "outputId": "a8c4cdf2-7a68-413d-99fa-91c5aeb2cb8b"
      },
      "execution_count": 82,
      "outputs": [
        {
          "output_type": "stream",
          "name": "stdout",
          "text": [
            "0\n",
            "2\n",
            "4\n",
            "6\n",
            "8\n",
            "10\n"
          ]
        }
      ]
    },
    {
      "cell_type": "code",
      "source": [],
      "metadata": {
        "id": "yJF73enXFkxv"
      },
      "execution_count": null,
      "outputs": []
    }
  ]
}