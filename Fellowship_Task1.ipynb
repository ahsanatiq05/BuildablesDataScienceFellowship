{
  "nbformat": 4,
  "nbformat_minor": 0,
  "metadata": {
    "colab": {
      "provenance": [],
      "authorship_tag": "ABX9TyMmp2BBaYLNTY+3omkBMIsm",
      "include_colab_link": true
    },
    "kernelspec": {
      "name": "python3",
      "display_name": "Python 3"
    },
    "language_info": {
      "name": "python"
    }
  },
  "cells": [
    {
      "cell_type": "markdown",
      "metadata": {
        "id": "view-in-github",
        "colab_type": "text"
      },
      "source": [
        "<a href=\"https://colab.research.google.com/github/ahsanatiq05/BuildablesDataScienceFellowship/blob/main/Fellowship_Task1.ipynb\" target=\"_parent\"><img src=\"https://colab.research.google.com/assets/colab-badge.svg\" alt=\"Open In Colab\"/></a>"
      ]
    },
    {
      "cell_type": "markdown",
      "source": [
        "#**Day-1**"
      ],
      "metadata": {
        "id": "kg8A3XvvDj_1"
      }
    },
    {
      "cell_type": "markdown",
      "source": [
        "### Question 1"
      ],
      "metadata": {
        "id": "N1G0m6dLEqI4"
      }
    },
    {
      "cell_type": "code",
      "execution_count": 2,
      "metadata": {
        "colab": {
          "base_uri": "https://localhost:8080/"
        },
        "id": "bESGxY62DhTV",
        "outputId": "7a4a58e7-09b7-40f2-9134-7cb1413bb70f"
      },
      "outputs": [
        {
          "output_type": "stream",
          "name": "stdout",
          "text": [
            "Enter first the number: 45 \n",
            "Enter the second number:4\n",
            "The sum is 49\n"
          ]
        }
      ],
      "source": [
        "a = int(input(\"Enter first the number: \"))\n",
        "b = int(input(\"Enter the second number:\"))\n",
        "print(\"The sum is \" + str(a+b))"
      ]
    },
    {
      "cell_type": "markdown",
      "source": [
        "5## Question 2"
      ],
      "metadata": {
        "id": "FG-S_QebEx1T"
      }
    },
    {
      "cell_type": "code",
      "source": [
        "r = int(input(\"Enter the radius: \"))\n",
        "print(\"The raidus of the circle is: \" + str(3.14 * r**2))"
      ],
      "metadata": {
        "colab": {
          "base_uri": "https://localhost:8080/"
        },
        "id": "nRm0ewBaEm7i",
        "outputId": "a951946b-bfec-40cd-f48c-bdd97859655d"
      },
      "execution_count": null,
      "outputs": [
        {
          "output_type": "stream",
          "name": "stdout",
          "text": [
            "Enter the radius: 44\n",
            "The raidus of the circle is: 6079.04\n"
          ]
        }
      ]
    },
    {
      "cell_type": "markdown",
      "source": [
        "## Question 3"
      ],
      "metadata": {
        "id": "9C-F6bwRGsgI"
      }
    },
    {
      "cell_type": "code",
      "source": [
        "a = int(input(\"Enter the number: \"))\n",
        "if a % 2 == 0:\n",
        "  print(\"The number is even\")\n",
        "else:\n",
        "  print(\"The number is odd\")"
      ],
      "metadata": {
        "id": "Zk1hWkQ2GubR"
      },
      "execution_count": null,
      "outputs": []
    },
    {
      "cell_type": "markdown",
      "source": [
        "## Question 4"
      ],
      "metadata": {
        "id": "z_nwbA6XFGH1"
      }
    },
    {
      "cell_type": "code",
      "source": [
        "a = int(input(\"Enter the first number: \"))\n",
        "b = int(input(\"Enter the second number: \"))\n",
        "c = str(input(\"Enter the operator: \"))\n",
        "\n",
        "if (c == \"+\"):\n",
        "  print(\"The result is:\" + str(a+b))\n",
        "elif (c == \"-\"):\n",
        "  print(\"The result is:\" + str(a-b))\n",
        "elif (c == \"*\"):\n",
        "  print(\"The result is:\" + str(a*b))\n",
        "elif (c == \"/\"):\n",
        "  print(\"The result is:\" + str(a/b))\n",
        "else:\n",
        "  print(\"Invalid operator\")"
      ],
      "metadata": {
        "colab": {
          "base_uri": "https://localhost:8080/"
        },
        "id": "Y_p_73Y-FEX1",
        "outputId": "dff535ec-1705-4a03-843a-3e2be3b3a530"
      },
      "execution_count": null,
      "outputs": [
        {
          "output_type": "stream",
          "name": "stdout",
          "text": [
            "Enter the first number: 4 \n",
            "Enter the second number: 5\n",
            "Enter the operator: -\n",
            "The result is:-1\n"
          ]
        }
      ]
    },
    {
      "cell_type": "markdown",
      "source": [
        "##Question 5"
      ],
      "metadata": {
        "id": "cSHleYflFsvs"
      }
    },
    {
      "cell_type": "code",
      "source": [
        "a = int(input(\"Enter the first number: \"))\n",
        "b = int(input(\"Enter the second number: \"))\n",
        "c = int(input(\"Enter the third number: \"))\n",
        "\n",
        "if (a> b and a>c):\n",
        "  print(\"The largest number is: \" + str(a))\n",
        "elif (b>a and b>c):\n",
        "  print(\"The largest number is: \" + str(b))\n",
        "else:\n",
        "  print(\"The largest number is: \" + str(c))"
      ],
      "metadata": {
        "colab": {
          "base_uri": "https://localhost:8080/"
        },
        "id": "qBe5qdp_FcWc",
        "outputId": "c47017ca-4966-4768-ffa6-506fd38e4072"
      },
      "execution_count": null,
      "outputs": [
        {
          "output_type": "stream",
          "name": "stdout",
          "text": [
            "Enter the first number: 5\n",
            "Enter the second number: 9\n",
            "Enter the third number: 2\n",
            "The largest number is: 9\n"
          ]
        }
      ]
    },
    {
      "cell_type": "markdown",
      "source": [
        "##Question 6"
      ],
      "metadata": {
        "id": "qDwbRnqRF5Ui"
      }
    },
    {
      "cell_type": "code",
      "source": [
        "s = str(input(\"Enter the string: \"))\n",
        "t = \"\"\n",
        "for i in range(len(s)-1, -1, -1):\n",
        "  t = t + s[i]\n",
        "print(t)"
      ],
      "metadata": {
        "colab": {
          "base_uri": "https://localhost:8080/"
        },
        "id": "6jwcMy_WF3Fd",
        "outputId": "66540653-1807-4040-cbf2-7629eb986c07"
      },
      "execution_count": null,
      "outputs": [
        {
          "output_type": "stream",
          "name": "stdout",
          "text": [
            "Enter the string: Test \n",
            " tseT\n"
          ]
        }
      ]
    },
    {
      "cell_type": "markdown",
      "source": [
        "##Question 7"
      ],
      "metadata": {
        "id": "_jn8RUuwGilm"
      }
    },
    {
      "cell_type": "code",
      "source": [
        "s = str(input(\"Enter the string: \"))\n",
        "s.lower()\n",
        "count = 0;\n",
        "for i in range(len(s)):\n",
        "  if (s[i] == \"a\" or s[i] == \"e\" or s[i] == \"i\" or s[i] == \"o\" or s[i] == \"u\"):\n",
        "    count = count +1\n",
        "print(\"The number of vowels is: \" + str(count))"
      ],
      "metadata": {
        "id": "nFo3ZSF0GKhd",
        "colab": {
          "base_uri": "https://localhost:8080/"
        },
        "outputId": "55d51fce-8da9-42dd-9406-2ce7b9f20945"
      },
      "execution_count": null,
      "outputs": [
        {
          "output_type": "stream",
          "name": "stdout",
          "text": [
            "Enter the string: Turning \n",
            "The number of vowels is: 2\n"
          ]
        }
      ]
    },
    {
      "cell_type": "markdown",
      "source": [
        "## Question 8"
      ],
      "metadata": {
        "id": "Fw5eABCdHUKj"
      }
    },
    {
      "cell_type": "code",
      "source": [
        "n = int(input(\"Enter the number: \"))\n",
        "p = 0\n",
        "c = 0\n",
        "for i in range(n):\n",
        "  if i == 0:\n",
        "    print(0)\n",
        "  elif i == 1:\n",
        "    print(1)\n",
        "    c = 1\n",
        "  else:\n",
        "     z = c +p\n",
        "     print(z)\n",
        "     p = c\n",
        "     c = z"
      ],
      "metadata": {
        "colab": {
          "base_uri": "https://localhost:8080/"
        },
        "id": "Y8oGRdp9HYlX",
        "outputId": "3d61f965-3c22-4e02-d511-187fbcb721c6"
      },
      "execution_count": null,
      "outputs": [
        {
          "output_type": "stream",
          "name": "stdout",
          "text": [
            "Enter the number: 6\n",
            "0\n",
            "1\n",
            "1\n",
            "2\n",
            "3\n",
            "5\n"
          ]
        }
      ]
    },
    {
      "cell_type": "markdown",
      "source": [
        "## Question 9"
      ],
      "metadata": {
        "id": "44jUJRD4IAWW"
      }
    },
    {
      "cell_type": "code",
      "source": [
        "s = str(input(\"Enter the string: \"))\n",
        "i = 0\n",
        "j = len(s)-1\n",
        "check = True\n",
        "while(i<j):\n",
        "  if s[i] != s[j]:\n",
        "    print(s + \" is not plaindrome\")\n",
        "    check = False\n",
        "    break;\n",
        "  i = i+1\n",
        "  j = j-1\n",
        "if(check):\n",
        "  print(s + \" is plaindrome\")"
      ],
      "metadata": {
        "colab": {
          "base_uri": "https://localhost:8080/"
        },
        "id": "mFoBE8gbH4G0",
        "outputId": "c968b9ed-089b-419b-f843-8acd22e13379"
      },
      "execution_count": 3,
      "outputs": [
        {
          "output_type": "stream",
          "name": "stdout",
          "text": [
            "Enter the string: civic\n",
            "civic is plaindrome\n"
          ]
        }
      ]
    },
    {
      "cell_type": "code",
      "source": [],
      "metadata": {
        "id": "C2NbsYQ8IsuD"
      },
      "execution_count": null,
      "outputs": []
    }
  ]
}