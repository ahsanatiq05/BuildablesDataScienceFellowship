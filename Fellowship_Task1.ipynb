{
  "nbformat": 4,
  "nbformat_minor": 0,
  "metadata": {
    "colab": {
      "provenance": [],
      "authorship_tag": "ABX9TyPQq6gBnayf+Lf2esPDG09Y",
      "include_colab_link": true
    },
    "kernelspec": {
      "name": "python3",
      "display_name": "Python 3"
    },
    "language_info": {
      "name": "python"
    }
  },
  "cells": [
    {
      "cell_type": "markdown",
      "metadata": {
        "id": "view-in-github",
        "colab_type": "text"
      },
      "source": [
        "<a href=\"https://colab.research.google.com/github/ahsanatiq05/BuildablesDataScienceFellowship/blob/main/Fellowship_Task1.ipynb\" target=\"_parent\"><img src=\"https://colab.research.google.com/assets/colab-badge.svg\" alt=\"Open In Colab\"/></a>"
      ]
    },
    {
      "cell_type": "markdown",
      "source": [
        "#**Day-1**"
      ],
      "metadata": {
        "id": "kg8A3XvvDj_1"
      }
    },
    {
      "cell_type": "markdown",
      "source": [
        "### Question 1"
      ],
      "metadata": {
        "id": "N1G0m6dLEqI4"
      }
    },
    {
      "cell_type": "code",
      "execution_count": null,
      "metadata": {
        "id": "bESGxY62DhTV",
        "colab": {
          "base_uri": "https://localhost:8080/"
        },
        "outputId": "07020e76-a1ae-4bf4-8cea-ddd65998912c"
      },
      "outputs": [
        {
          "output_type": "stream",
          "name": "stdout",
          "text": [
            "Enter first the number: 5\n",
            "Enter the second number:7\n",
            "The sum is 12\n"
          ]
        }
      ],
      "source": [
        "a = int(input(\"Enter first the number: \"))\n",
        "b = int(input(\"Enter the second number:\"))\n",
        "print(\"The sum is \" + str(a+b))"
      ]
    },
    {
      "cell_type": "markdown",
      "source": [
        "## Question 2"
      ],
      "metadata": {
        "id": "FG-S_QebEx1T"
      }
    },
    {
      "cell_type": "code",
      "source": [
        "r = int(input(\"Enter the radius: \"))\n",
        "print(\"The raidus of the circle is: \" + str(3.14 * r**2))"
      ],
      "metadata": {
        "id": "nRm0ewBaEm7i",
        "colab": {
          "base_uri": "https://localhost:8080/"
        },
        "outputId": "234f6000-34fc-4b05-9438-90bae97134cb"
      },
      "execution_count": null,
      "outputs": [
        {
          "output_type": "stream",
          "name": "stdout",
          "text": [
            "Enter the radius: 4\n",
            "The raidus of the circle is: 50.24\n"
          ]
        }
      ]
    },
    {
      "cell_type": "markdown",
      "source": [
        "## Question 3"
      ],
      "metadata": {
        "id": "9C-F6bwRGsgI"
      }
    },
    {
      "cell_type": "code",
      "source": [
        "a = int(input(\"Enter the number: \"))\n",
        "if a % 2 == 0:\n",
        "  print(\"The number is even\")\n",
        "else:\n",
        "  print(\"The number is odd\")"
      ],
      "metadata": {
        "id": "Zk1hWkQ2GubR",
        "colab": {
          "base_uri": "https://localhost:8080/"
        },
        "outputId": "b8b78fa3-f81a-4347-c3fb-cb770328927f"
      },
      "execution_count": null,
      "outputs": [
        {
          "output_type": "stream",
          "name": "stdout",
          "text": [
            "Enter the number: 14\n",
            "The number is even\n"
          ]
        }
      ]
    },
    {
      "cell_type": "markdown",
      "source": [
        "## Question 4"
      ],
      "metadata": {
        "id": "z_nwbA6XFGH1"
      }
    },
    {
      "cell_type": "code",
      "source": [
        "a = int(input(\"Enter the first number: \"))\n",
        "b = int(input(\"Enter the second number: \"))\n",
        "c = str(input(\"Enter the operator: \"))\n",
        "\n",
        "if (c == \"+\"):\n",
        "  print(\"The result is:\" + str(a+b))\n",
        "elif (c == \"-\"):\n",
        "  print(\"The result is:\" + str(a-b))\n",
        "elif (c == \"*\"):\n",
        "  print(\"The result is:\" + str(a*b))\n",
        "elif (c == \"/\"):\n",
        "  print(\"The result is:\" + str(a/b))\n",
        "else:\n",
        "  print(\"Invalid operator\")"
      ],
      "metadata": {
        "id": "Y_p_73Y-FEX1",
        "colab": {
          "base_uri": "https://localhost:8080/"
        },
        "outputId": "7876721e-72a0-40b9-cb54-9c88966ececc"
      },
      "execution_count": null,
      "outputs": [
        {
          "output_type": "stream",
          "name": "stdout",
          "text": [
            "Enter the first number: 5\n",
            "Enter the second number: 6\n",
            "Enter the operator: +\n",
            "The result is:11\n"
          ]
        }
      ]
    },
    {
      "cell_type": "markdown",
      "source": [
        "##Question 5"
      ],
      "metadata": {
        "id": "cSHleYflFsvs"
      }
    },
    {
      "cell_type": "code",
      "source": [
        "a = int(input(\"Enter the first number: \"))\n",
        "b = int(input(\"Enter the second number: \"))\n",
        "c = int(input(\"Enter the third number: \"))\n",
        "\n",
        "if (a> b and a>c):\n",
        "  print(\"The largest number is: \" + str(a))\n",
        "elif (b>a and b>c):\n",
        "  print(\"The largest number is: \" + str(b))\n",
        "else:\n",
        "  print(\"The largest number is: \" + str(c))"
      ],
      "metadata": {
        "id": "qBe5qdp_FcWc",
        "colab": {
          "base_uri": "https://localhost:8080/"
        },
        "outputId": "2d111928-b42e-459f-aee1-8d66e2e0254f"
      },
      "execution_count": null,
      "outputs": [
        {
          "output_type": "stream",
          "name": "stdout",
          "text": [
            "Enter the first number: 5 \n",
            "Enter the second number: 8\n",
            "Enter the third number: 3\n",
            "The largest number is: 8\n"
          ]
        }
      ]
    },
    {
      "cell_type": "markdown",
      "source": [
        "##Question 6"
      ],
      "metadata": {
        "id": "qDwbRnqRF5Ui"
      }
    },
    {
      "cell_type": "code",
      "source": [
        "s = str(input(\"Enter the string: \"))\n",
        "t = \"\"\n",
        "for i in range(len(s)-1, -1, -1):\n",
        "  t = t + s[i]\n",
        "print(t)"
      ],
      "metadata": {
        "id": "6jwcMy_WF3Fd",
        "colab": {
          "base_uri": "https://localhost:8080/"
        },
        "outputId": "5d84eb98-1607-4782-8839-82a7c4a414cf"
      },
      "execution_count": null,
      "outputs": [
        {
          "output_type": "stream",
          "name": "stdout",
          "text": [
            "Enter the string: Time\n",
            "emiT\n"
          ]
        }
      ]
    },
    {
      "cell_type": "markdown",
      "source": [
        "##Question 7"
      ],
      "metadata": {
        "id": "_jn8RUuwGilm"
      }
    },
    {
      "cell_type": "code",
      "source": [
        "s = str(input(\"Enter the string: \"))\n",
        "s.lower()\n",
        "count = 0;\n",
        "for i in range(len(s)):\n",
        "  if (s[i] == \"a\" or s[i] == \"e\" or s[i] == \"i\" or s[i] == \"o\" or s[i] == \"u\"):\n",
        "    count = count +1\n",
        "print(\"The number of vowels is: \" + str(count))"
      ],
      "metadata": {
        "id": "nFo3ZSF0GKhd",
        "colab": {
          "base_uri": "https://localhost:8080/"
        },
        "outputId": "7f34f793-9725-4961-c492-709b83c8d27e"
      },
      "execution_count": null,
      "outputs": [
        {
          "output_type": "stream",
          "name": "stdout",
          "text": [
            "Enter the string: january\n",
            "The number of vowels is: 3\n"
          ]
        }
      ]
    },
    {
      "cell_type": "markdown",
      "source": [
        "## Question 8"
      ],
      "metadata": {
        "id": "Fw5eABCdHUKj"
      }
    },
    {
      "cell_type": "code",
      "source": [
        "n = int(input(\"Enter the number: \"))\n",
        "p = 0\n",
        "c = 0\n",
        "for i in range(n):\n",
        "  if i == 0:\n",
        "    print(0)\n",
        "  elif i == 1:\n",
        "    print(1)\n",
        "    c = 1\n",
        "  else:\n",
        "     z = c +p\n",
        "     print(z)\n",
        "     p = c\n",
        "     c = z"
      ],
      "metadata": {
        "id": "Y8oGRdp9HYlX",
        "colab": {
          "base_uri": "https://localhost:8080/"
        },
        "outputId": "ac54c9ff-03da-4271-ab01-086d6cda50e5"
      },
      "execution_count": null,
      "outputs": [
        {
          "output_type": "stream",
          "name": "stdout",
          "text": [
            "Enter the number: 7\n",
            "0\n",
            "1\n",
            "1\n",
            "2\n",
            "3\n",
            "5\n",
            "8\n"
          ]
        }
      ]
    },
    {
      "cell_type": "markdown",
      "source": [
        "## Question 9"
      ],
      "metadata": {
        "id": "yQoB9pN9TXCz"
      }
    },
    {
      "cell_type": "code",
      "source": [
        "s = str(input(\"Enter the string: \"))\n",
        "i = 0\n",
        "j = len(s)-1\n",
        "check = True\n",
        "while(i<j):\n",
        "  if s[i] != s[j]:\n",
        "    print(s + \" is not plaindrome\")\n",
        "    check = False\n",
        "    break;\n",
        "  i = i+1\n",
        "  j = j-1\n",
        "if(check):\n",
        "  print(s + \" is plaindrome\")"
      ],
      "metadata": {
        "id": "mFoBE8gbH4G0",
        "colab": {
          "base_uri": "https://localhost:8080/"
        },
        "outputId": "d1d99ffb-f0c9-433f-bba1-b89125a88967"
      },
      "execution_count": null,
      "outputs": [
        {
          "output_type": "stream",
          "name": "stdout",
          "text": [
            "Enter the string: civix\n",
            "civix is not plaindrome\n"
          ]
        }
      ]
    },
    {
      "cell_type": "code",
      "source": [],
      "metadata": {
        "id": "W6wdcvPbPQu_"
      },
      "execution_count": null,
      "outputs": []
    }
  ]
}